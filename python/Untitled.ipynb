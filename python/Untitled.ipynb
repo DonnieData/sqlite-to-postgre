{
 "cells": [
  {
   "cell_type": "code",
   "execution_count": null,
   "metadata": {},
   "outputs": [],
   "source": []
  },
  {
   "cell_type": "code",
   "execution_count": null,
   "metadata": {},
   "outputs": [],
   "source": [
    "import pandas as pd\n",
    "from sqlalchemy import create_engine\n",
    "import psycopg2\n",
    "import sqlite3\n",
    "import config\n",
    "\n",
    "#connect to sqlite db file \n",
    "sqlite_conn = sqlite3.connect(\"../sqlite/database.sqlite\")\n",
    "sqlite_cur = sqlite_conn.cursor()\n",
    "\n",
    "#query all table names \n",
    "tables_df = pd.DataFrame(sqlite_cur.execute(\"SELECT name FROM sqlite_master WHERE type='table'\"))\n",
    "tables_df.columns = [i[0] for i in sqlite_cur.description]\n"
   ]
  },
  {
   "cell_type": "code",
   "execution_count": null,
   "metadata": {},
   "outputs": [],
   "source": []
  }
 ],
 "metadata": {
  "kernelspec": {
   "display_name": "PythonData",
   "language": "python",
   "name": "pythondata"
  },
  "language_info": {
   "codemirror_mode": {
    "name": "ipython",
    "version": 3
   },
   "file_extension": ".py",
   "mimetype": "text/x-python",
   "name": "python",
   "nbconvert_exporter": "python",
   "pygments_lexer": "ipython3",
   "version": "3.7.11"
  }
 },
 "nbformat": 4,
 "nbformat_minor": 4
}
